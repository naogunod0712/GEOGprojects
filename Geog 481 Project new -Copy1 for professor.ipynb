{
 "cells": [
  {
   "cell_type": "code",
   "execution_count": null,
   "id": "f53576e0",
   "metadata": {},
   "outputs": [],
   "source": [
    "# Code/ Framework for the sensitivty analysis\n",
    "#Group 1"
   ]
  },
  {
   "cell_type": "code",
   "execution_count": 1,
   "id": "a49ac933",
   "metadata": {},
   "outputs": [],
   "source": [
    "#import the raster\n",
    "import rasterio\n",
    "import rasterio.plot\n",
    "import pyproj\n",
    "import numpy as np\n",
    "import matplotlib\n",
    "import matplotlib.pyplot as plt"
   ]
  },
  {
   "cell_type": "code",
   "execution_count": 2,
   "id": "8751beca",
   "metadata": {},
   "outputs": [],
   "source": [
    "#Open a raster file\n",
    "file_name= rasterio.open(\"C:/Users/Adeol/GEOG_481/country_raster_dataset.tif\")"
   ]
  },
  {
   "cell_type": "code",
   "execution_count": 3,
   "id": "3a074ed1",
   "metadata": {},
   "outputs": [
    {
     "data": {
      "text/plain": [
       "'C:/Users/Adeol/GEOG_481/country_raster_dataset.tif'"
      ]
     },
     "execution_count": 3,
     "metadata": {},
     "output_type": "execute_result"
    }
   ],
   "source": [
    "#The name of the raster\n",
    "file_name.name"
   ]
  },
  {
   "cell_type": "code",
   "execution_count": 4,
   "id": "47f6aeb6",
   "metadata": {},
   "outputs": [],
   "source": [
    "#import python modules \n",
    "from rasterio.plot import show"
   ]
  },
  {
   "cell_type": "code",
   "execution_count": 5,
   "id": "d6916a80",
   "metadata": {},
   "outputs": [
    {
     "data": {
      "image/png": "[encoded data removed]",
      "text/plain": [
       "<Figure size 432x288 with 1 Axes>"
      ]
     },
     "metadata": {
      "needs_background": "light"
     },
     "output_type": "display_data"
    },
    {
     "data": {
      "text/plain": [
       "<AxesSubplot:>"
      ]
     },
     "execution_count": 5,
     "metadata": {},
     "output_type": "execute_result"
    }
   ],
   "source": [
    "#Show the raster file\n",
    "show(file_name)"
   ]
  },
  {
   "cell_type": "code",
   "execution_count": 6,
   "id": "9dd665e3",
   "metadata": {},
   "outputs": [
    {
     "data": {
      "text/plain": [
       "(1,)"
      ]
     },
     "execution_count": 6,
     "metadata": {},
     "output_type": "execute_result"
    }
   ],
   "source": [
    "# count of the bands in the image\n",
    "file_name.indexes\n"
   ]
  },
  {
   "cell_type": "code",
   "execution_count": 7,
   "id": "e5b42533",
   "metadata": {},
   "outputs": [],
   "source": [
    "#Read the raster file\n",
    "band1 = file_name.read(1)"
   ]
  },
  {
   "cell_type": "code",
   "execution_count": 8,
   "id": "1934bee7",
   "metadata": {
    "scrolled": true
   },
   "outputs": [
    {
     "data": {
      "text/plain": [
       "array([[0, 0, 0, ..., 0, 0, 0],\n",
       "       [0, 0, 0, ..., 0, 0, 0],\n",
       "       [0, 0, 0, ..., 0, 0, 0],\n",
       "       ...,\n",
       "       [0, 0, 0, ..., 0, 0, 0],\n",
       "       [0, 0, 0, ..., 0, 0, 0],\n",
       "       [0, 0, 0, ..., 0, 0, 0]], dtype=uint8)"
      ]
     },
     "execution_count": 8,
     "metadata": {},
     "output_type": "execute_result"
    }
   ],
   "source": [
    "#show the array of it\n",
    "band1"
   ]
  },
  {
   "cell_type": "code",
   "execution_count": 28,
   "id": "f09133d0",
   "metadata": {},
   "outputs": [
    {
     "data": {
      "text/plain": [
       "dtype('uint8')"
      ]
     },
     "execution_count": 28,
     "metadata": {},
     "output_type": "execute_result"
    }
   ],
   "source": [
    "#show the dtype of the raster file\n",
    "band1.dtype"
   ]
  },
  {
   "cell_type": "code",
   "execution_count": 9,
   "id": "f6e46f58",
   "metadata": {},
   "outputs": [],
   "source": [
    "#weightings to be used for the raster input\n",
    "#Prof- would I need to add multiple weights into this\n",
    "w = 0.5"
   ]
  },
  {
   "cell_type": "code",
   "execution_count": 40,
   "id": "689dad5f",
   "metadata": {},
   "outputs": [
    {
     "name": "stdout",
     "output_type": "stream",
     "text": [
      "band1 array  [[0 0 0 ... 0 0 0]\n",
      " [0 0 0 ... 0 0 0]\n",
      " [0 0 0 ... 0 0 0]\n",
      " ...\n",
      " [0 0 0 ... 0 0 0]\n",
      " [0 0 0 ... 0 0 0]\n",
      " [0 0 0 ... 0 0 0]]\n",
      "new array= [0. 0. 0. 0. 0. 0. 0. 0. 0. 0. 0. 0. 0. 0. 0. 0. 0. 0. 0. 0. 0. 0. 0. 0.\n",
      " 0. 0. 0. 0. 0. 0. 0. 0. 0. 0. 0. 0. 0. 0. 0. 0. 0. 0. 0. 0. 0. 0. 0. 0.\n",
      " 0. 0. 0. 0. 0. 0. 0. 0. 0. 0. 4. 0. 0. 0. 0. 0. 0. 0. 0. 0. 0. 0. 0. 0.\n",
      " 0. 0. 0. 0. 0. 0. 0. 0. 0. 0. 0. 0. 0. 0. 0. 0.]\n"
     ]
    }
   ],
   "source": [
    "#loop through the raster and multiply raster by the wight\n",
    "for i in band1:\n",
    "    dr= i * w\n",
    "    \n",
    "print (\"band1 array \", band1)\n",
    "print (\"new array=\",  dr)\n"
   ]
  },
  {
   "cell_type": "code",
   "execution_count": null,
   "id": "5b456dff",
   "metadata": {},
   "outputs": [],
   "source": [
    "# I have two problems \n",
    "# I don't know how to add the mulutiplicated weight raster into an  output raster file\n",
    "#not fully sure this is what the iteration should be to be multiply by the weight and\n",
    "# add the value of the changed output raster to another raster\n",
    "# Whatever you make could you kindly put your first name in front of it"
   ]
  },
  {
   "cell_type": "code",
   "execution_count": 24,
   "id": "0fe5ff95",
   "metadata": {},
   "outputs": [
    {
     "name": "stdout",
     "output_type": "stream",
     "text": [
      "41\n",
      "88\n",
      "EPSG:4269\n",
      "| 1.00, 0.00,-141.02|\n",
      "| 0.00,-1.00, 82.68|\n",
      "| 0.00, 0.00, 1.00|\n"
     ]
    }
   ],
   "source": [
    "#raster properties\n",
    "print(file_name.height)  #Grab the height of the raster\n",
    "print(file_name.width)   #Grab the width of the raster\n",
    "print(file_name.crs)     #The coordinate reference system"
   ]
  },
  {
   "cell_type": "code",
   "execution_count": 31,
   "id": "8ea725dc",
   "metadata": {},
   "outputs": [
    {
     "ename": "InvalidArrayError",
     "evalue": "Positional argument arr must be an array-like object",
     "output_type": "error",
     "traceback": [
      "\u001b[1;31m---------------------------------------------------------------------------\u001b[0m",
      "\u001b[1;31mInvalidArrayError\u001b[0m                         Traceback (most recent call last)",
      "\u001b[1;32m~\\AppData\\Local\\Temp/ipykernel_11240/3893979053.py\u001b[0m in \u001b[0;36m<module>\u001b[1;34m\u001b[0m\n\u001b[0;32m     10\u001b[0m     \u001b[0mtransform\u001b[0m\u001b[1;33m=\u001b[0m\u001b[0mfile_name\u001b[0m\u001b[1;33m.\u001b[0m\u001b[0mtransform\u001b[0m\u001b[1;33m,\u001b[0m\u001b[1;33m\u001b[0m\u001b[1;33m\u001b[0m\u001b[0m\n\u001b[0;32m     11\u001b[0m         ) as  outfile:\n\u001b[1;32m---> 12\u001b[1;33m     \u001b[0moutfile\u001b[0m\u001b[1;33m.\u001b[0m\u001b[0mwrite\u001b[0m\u001b[1;33m(\u001b[0m\u001b[0mfile_name\u001b[0m\u001b[1;33m,\u001b[0m \u001b[0mindexes\u001b[0m\u001b[1;33m=\u001b[0m\u001b[1;36m1\u001b[0m\u001b[1;33m)\u001b[0m\u001b[1;33m\u001b[0m\u001b[1;33m\u001b[0m\u001b[0m\n\u001b[0m",
      "\u001b[1;32mrasterio\\_io.pyx\u001b[0m in \u001b[0;36mrasterio._io.DatasetWriterBase.write\u001b[1;34m()\u001b[0m\n",
      "\u001b[1;31mInvalidArrayError\u001b[0m: Positional argument arr must be an array-like object"
     ]
    }
   ],
   "source": [
    "#Writing out the raster file\n",
    "with rasterio.open(\n",
    "...     'C:/Users/Adeol/GEOG_481/testout.tif',\n",
    "...     'w',\n",
    "...     driver='GTiff',\n",
    "...     height=file_name.shape[0],\n",
    "...     width=file_name.shape[1],\n",
    "...     count=1,\n",
    "...     dtype=band1.dtype,\n",
    "...     crs=file_name.crs,\n",
    "...     transform=file_name.transform,\n",
    "        ) as  outfile:\n",
    "    outfile.write(file_name, indexes=1)"
   ]
  },
  {
   "cell_type": "code",
   "execution_count": null,
   "id": "fb080a74",
   "metadata": {},
   "outputs": [],
   "source": []
  }
 ],
 "metadata": {
  "kernelspec": {
   "display_name": "Python 3 (ipykernel)",
   "language": "python",
   "name": "python3"
  },
  "language_info": {
   "codemirror_mode": {
    "name": "ipython",
    "version": 3
   },
   "file_extension": ".py",
   "mimetype": "text/x-python",
   "name": "python",
   "nbconvert_exporter": "python",
   "pygments_lexer": "ipython3",
   "version": "3.8.10"
  }
 },
 "nbformat": 4,
 "nbformat_minor": 5
}
